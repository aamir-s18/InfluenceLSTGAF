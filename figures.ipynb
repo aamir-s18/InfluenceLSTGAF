{
 "cells": [
  {
   "cell_type": "code",
   "execution_count": null,
   "metadata": {},
   "outputs": [],
   "source": [
    "import geopandas as gpd\n",
    "import pandas as pd"
   ]
  },
  {
   "cell_type": "code",
   "execution_count": null,
   "metadata": {},
   "outputs": [],
   "source": [
    "import matplotlib as mpl\n",
    "import matplotlib.pyplot as plt\n",
    "import numpy as np\n",
    "import seaborn as sns\n",
    "import rasterio\n",
    "import rasterio.mask\n",
    "import fiona\n",
    "import string\n",
    "import matplotlib.lines as mlines\n",
    "\n",
    "from matplotlib_scalebar.scalebar import ScaleBar"
   ]
  },
  {
   "cell_type": "code",
   "execution_count": null,
   "metadata": {},
   "outputs": [],
   "source": [
    "mpl.rcParams[\"figure.dpi\"] = 300"
   ]
  },
  {
   "cell_type": "code",
   "execution_count": null,
   "metadata": {},
   "outputs": [],
   "source": [
    "lst98 = rasterio.open(\"data/tiff/lstMedian1998.tif\").read(1)\n",
    "lst08 = rasterio.open(\"data/tiff/lstMedian2008.tif\").read(1)\n",
    "lst18 = rasterio.open(\"data/tiff/lstMedian2018.tif\").read(1)"
   ]
  },
  {
   "cell_type": "code",
   "execution_count": null,
   "metadata": {},
   "outputs": [],
   "source": [
    "src = rasterio.open(\"data/tiff/lstMedian1998.tif\")"
   ]
  },
  {
   "cell_type": "code",
   "execution_count": null,
   "metadata": {},
   "outputs": [],
   "source": [
    "with fiona.open(\"data/lausanne_reproj.shp\", \"r\") as shapefile:\n",
    "    shapes = [feature[\"geometry\"] for feature in shapefile]"
   ]
  },
  {
   "cell_type": "code",
   "execution_count": null,
   "metadata": {},
   "outputs": [],
   "source": [
    "out = rasterio.mask.raster_geometry_mask(src, shapes)"
   ]
  },
  {
   "cell_type": "code",
   "execution_count": null,
   "metadata": {},
   "outputs": [],
   "source": [
    "lst98 -= 273.15\n",
    "lst08 -= 273.15\n",
    "lst18 -= 273.15"
   ]
  },
  {
   "cell_type": "code",
   "execution_count": null,
   "metadata": {},
   "outputs": [],
   "source": [
    "vmin = np.min(lst98)\n",
    "vmax = np.max(lst98)"
   ]
  },
  {
   "cell_type": "code",
   "execution_count": null,
   "metadata": {},
   "outputs": [],
   "source": [
    "years = [1998, 2008, 2018]"
   ]
  },
  {
   "cell_type": "code",
   "execution_count": null,
   "metadata": {},
   "outputs": [],
   "source": [
    "# Plot the LST data\n",
    "fig, ax = plt.subplots(3, 1, figsize=(20, 9))\n",
    "ax[0].imshow(lst98, cmap=\"RdYlBu_r\", vmin=vmin, vmax=vmax)\n",
    "ax[0].contour(out[0], colors=\"black\", linewidths=0.5)\n",
    "ax[1].imshow(lst08, cmap=\"RdYlBu_r\", vmin=vmin, vmax=vmax)\n",
    "ax[1].contour(out[0], colors=\"black\", linewidths=0.5)\n",
    "im = ax[2].imshow(lst18, cmap=\"RdYlBu_r\", vmin=vmin, vmax=vmax)\n",
    "ax[2].contour(out[0], colors=\"black\", linewidths=0.5)\n",
    "\n",
    "for i, a in enumerate(ax):\n",
    "    a.set_axis_off()\n",
    "    a.set_title(f\"({string.ascii_uppercase[i]}) LST of Summer {years[i]}\")\n",
    "cb = fig.colorbar(im, ax=ax,) #orientation='horizontal', pad=0.05, aspect=50)\n",
    "cb.set_label(\"LST [°C]\")\n",
    "cb.minorticks_on()\n",
    "fig.savefig(\"figures/lst.png\", bbox_inches=\"tight\", dpi=600)"
   ]
  },
  {
   "cell_type": "code",
   "execution_count": null,
   "metadata": {},
   "outputs": [],
   "source": [
    "lausanne = gpd.read_file(\"data/Lausanne Region by municipalities.zip\")\n",
    "lausanne = lausanne.to_crs(\"EPSG:21781\")"
   ]
  },
  {
   "cell_type": "code",
   "execution_count": null,
   "metadata": {},
   "outputs": [],
   "source": [
    "gdf = gpd.read_file(\"data/finalClean.gpkg\")"
   ]
  },
  {
   "cell_type": "code",
   "execution_count": null,
   "metadata": {},
   "outputs": [],
   "source": [
    "colors = {0: \"#bebdbe\", 1: \"#fe0000\", 2: \"#0000fe\", 3: \"#9696fe\", 4: \"#fe9695\", 6: \"#fe9695\"}"
   ]
  },
  {
   "cell_type": "code",
   "execution_count": null,
   "metadata": {},
   "outputs": [],
   "source": [
    "# drop where column gaf_lisaCl = 6\n",
    "gdf = gdf[gdf[\"gaf_lisaCl\"] != 6]\n",
    "gdf[\"gaf_lisaCl\"] = pd.Categorical(gdf['gaf_lisaCl'], [1, 2, 3, 4, 0])\n",
    "gdf = gdf.sort_values(by='gaf_lisaCl')"
   ]
  },
  {
   "cell_type": "code",
   "execution_count": null,
   "metadata": {},
   "outputs": [],
   "source": [
    "customs = [mlines.Line2D([], [], linewidth=0) ,mlines.Line2D([], [], color=colors[0], marker='o', linestyle='None', markersize=3), mlines.Line2D([], [], color=colors[1], marker='o', linestyle='None', markersize=3), mlines.Line2D([], [], color=colors[2], marker='o', linestyle='None', markersize=3), mlines.Line2D([], [], color=colors[3], marker='o', linestyle='None', markersize=3), mlines.Line2D([], [], color=colors[4], marker='o', linestyle='None', markersize=3)]"
   ]
  },
  {
   "cell_type": "code",
   "execution_count": null,
   "metadata": {},
   "outputs": [],
   "source": [
    "fig, ax = plt.subplots()\n",
    "lausanne.plot(color=\"none\", edgecolor=\"black\", ax=ax, linewidth=0.1, facecolor=\"#778382\")\n",
    "handle = gdf.plot(marker='o', categorical=True, color=gdf[\"gaf_lisaCl\"].map(colors), ax=ax, markersize=4, edgecolor=\"gray\", linewidth=0.1, legend=True)\n",
    "ax.set_axis_off()\n",
    "ax.add_artist(ScaleBar(1))\n",
    "ax.legend(customs, ['LISA Cluster classes - measured GAF', 'Not Significant (2243)', 'High-High (137)', 'Low-Low (77)', 'Low-High (98)', 'High-Low (111)'], prop={'size': 5}, loc=2)\n",
    "fig.savefig(\"figures/gaf_lisa.pdf\", bbox_inches=\"tight\", dpi=600)"
   ]
  },
  {
   "cell_type": "code",
   "execution_count": null,
   "metadata": {},
   "outputs": [],
   "source": [
    "fig, ax = plt.subplots()\n",
    "lausanne.plot(color=\"none\", edgecolor=\"black\", ax=ax, linewidth=0.1, facecolor=\"#778382\")\n",
    "handle = gdf.plot(marker='o', categorical=True, color=gdf[\"adjga_saCl\"].map(colors), ax=ax, markersize=4, edgecolor=\"gray\", linewidth=0.1, legend=True)\n",
    "ax.set_axis_off()\n",
    "ax.add_artist(ScaleBar(1))\n",
    "ax.legend(customs, ['LISA Cluster classes - measured GAF Adjusted', 'Not Significant (2289)', 'High-High (113)', 'Low-Low (76)', 'Low-High (63)', 'High-Low (125)'], prop={'size': 5}, loc=2)\n",
    "fig.savefig(\"figures/gaf_adj_lisa.pdf\", bbox_inches=\"tight\", dpi=600)"
   ]
  }
 ],
 "metadata": {
  "kernelspec": {
   "display_name": "Python 3",
   "language": "python",
   "name": "python3"
  },
  "language_info": {
   "codemirror_mode": {
    "name": "ipython",
    "version": 3
   },
   "file_extension": ".py",
   "mimetype": "text/x-python",
   "name": "python",
   "nbconvert_exporter": "python",
   "pygments_lexer": "ipython3",
   "version": "3.9.16"
  },
  "orig_nbformat": 4,
  "vscode": {
   "interpreter": {
    "hash": "a665b5d41d17b532ea9890333293a1b812fa0b73c9c25c950b3cedf1bebd0438"
   }
  }
 },
 "nbformat": 4,
 "nbformat_minor": 2
}
